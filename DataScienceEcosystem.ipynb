{
 "cells": [
  {
   "cell_type": "markdown",
   "id": "b924ecde-0083-43f1-a88a-a7e5c96840f7",
   "metadata": {},
   "source": [
    "# Data Science Tools and Ecosytem"
   ]
  },
  {
   "cell_type": "markdown",
   "id": "2029f76a-4c97-4cf0-a2b1-c005647f2755",
   "metadata": {},
   "source": [
    "In this notebook, Data Science Tools and Ecosystems are summarized."
   ]
  },
  {
   "cell_type": "markdown",
   "id": "269adc6a-fa2d-4f1a-8998-2a0e573d7515",
   "metadata": {},
   "source": [
    "**Objectives**\n",
    "\n",
    "* List examples of open-source tools used in data science\n",
    "* Describe how to use Jupyter Notebook\n",
    "* Identify commonly used languages in data science"
   ]
  },
  {
   "cell_type": "markdown",
   "id": "d9de6644-2cb6-42b4-b186-d140a163e063",
   "metadata": {},
   "source": [
    "Some of the popular languages that Data Scientists use are:\n",
    "\n",
    "1. Python\n",
    "2. R\n",
    "3. Java\n",
    "4. C++\n",
    "5. SQL"
   ]
  },
  {
   "cell_type": "markdown",
   "id": "508962e4-8f9a-46b9-b080-36458231baeb",
   "metadata": {},
   "source": [
    "Some of the commonly used libraries used by Data Scientists include:\n",
    "\n",
    "1. TensorFlow\n",
    "2. NumPy\n",
    "3. SciPy\n",
    "4. Pandas "
   ]
  },
  {
   "cell_type": "markdown",
   "id": "62dfb916-0250-42ec-86db-d6f160095384",
   "metadata": {},
   "source": [
    "|Data Science Tools|\n",
    "|------------------|\n",
    "|RStudio   |\n",
    "|Jupyter Notebook |\n",
    "|GitHub  |"
   ]
  },
  {
   "cell_type": "markdown",
   "id": "fade8f6d-d243-4a80-9a50-09dc5978ac8e",
   "metadata": {
    "tags": []
   },
   "source": [
    "### Below are a few examples of evaluating arithmetic expressions in python"
   ]
  },
  {
   "cell_type": "code",
   "execution_count": 1,
   "id": "f14ebbb5-76b3-41f5-9d03-8d925b22ab2d",
   "metadata": {
    "tags": []
   },
   "outputs": [
    {
     "data": {
      "text/plain": [
       "17"
      ]
     },
     "execution_count": 1,
     "metadata": {},
     "output_type": "execute_result"
    }
   ],
   "source": [
    "# This is a simple arithmetic expression to multiply then add integers\n",
    "\n",
    "(3*4)+5"
   ]
  },
  {
   "cell_type": "code",
   "execution_count": 2,
   "id": "c57b0725-809e-468d-9052-c90d29b8f51a",
   "metadata": {
    "tags": []
   },
   "outputs": [
    {
     "data": {
      "text/plain": [
       "3.3333333333333335"
      ]
     },
     "execution_count": 2,
     "metadata": {},
     "output_type": "execute_result"
    }
   ],
   "source": [
    "# This will convert 200 minutes to hours by dividing by 60\n",
    "\n",
    "200/60"
   ]
  },
  {
   "cell_type": "markdown",
   "id": "641c6685-810b-4f71-89be-260309d2756a",
   "metadata": {},
   "source": [
    "## Author\n",
    "Teri Douglas"
   ]
  }
 ],
 "metadata": {
  "kernelspec": {
   "display_name": "Python",
   "language": "python",
   "name": "conda-env-python-py"
  },
  "language_info": {
   "codemirror_mode": {
    "name": "ipython",
    "version": 3
   },
   "file_extension": ".py",
   "mimetype": "text/x-python",
   "name": "python",
   "nbconvert_exporter": "python",
   "pygments_lexer": "ipython3",
   "version": "3.7.12"
  }
 },
 "nbformat": 4,
 "nbformat_minor": 5
}
